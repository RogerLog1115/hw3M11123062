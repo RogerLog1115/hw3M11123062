{
 "cells": [
  {
   "cell_type": "code",
   "execution_count": 1,
   "id": "89b8a5c2",
   "metadata": {},
   "outputs": [],
   "source": [
    "import matplotlib.pyplot as plt\n",
    "import numpy as np\n",
    "import pandas as pd\n",
    "from sklearn import metrics\n",
    "from sklearn.cluster import KMeans\n",
    "from sklearn.datasets import load_iris"
   ]
  },
  {
   "cell_type": "code",
   "execution_count": 2,
   "id": "dd15c48c",
   "metadata": {},
   "outputs": [],
   "source": [
    "# load iris data set\n",
    "iris = load_iris()\n",
    "X = iris.data"
   ]
  },
  {
   "cell_type": "code",
   "execution_count": 3,
   "id": "7bc9ca8b",
   "metadata": {},
   "outputs": [],
   "source": [
    "def purity_score(y_true, y_pred):\n",
    "    # compute contingency matrix (also called confusion matrix)\n",
    "    contingency_matrix = metrics.cluster.contingency_matrix(y_true, y_pred)\n",
    "    # return purity\n",
    "    return np.sum(np.amax(contingency_matrix, axis=0)) / np.sum(contingency_matrix)"
   ]
  },
  {
   "cell_type": "code",
   "execution_count": null,
   "id": "22b21d12",
   "metadata": {},
   "outputs": [
    {
     "name": "stdout",
     "output_type": "stream",
     "text": [
      "Purity: 0.8933333333333333\n"
     ]
    }
   ],
   "source": [
    "#Kmeans\n",
    "KM = KMeans(n_clusters=3,init='random',random_state=5)\n",
    "KM.fit(X)\n",
    "KM.predict(X)\n",
    "plt.scatter(X[:,2],X[:,3],c=KM.predict(X))\n",
    "\n",
    "print(\"Purity:\", purity_score(iris.target, KM.predict(X)))"
   ]
  }
 ],
 "metadata": {
  "kernelspec": {
   "display_name": "Python 3 (ipykernel)",
   "language": "python",
   "name": "python3"
  },
  "language_info": {
   "codemirror_mode": {
    "name": "ipython",
    "version": 3
   },
   "file_extension": ".py",
   "mimetype": "text/x-python",
   "name": "python",
   "nbconvert_exporter": "python",
   "pygments_lexer": "ipython3",
   "version": "3.9.12"
  }
 },
 "nbformat": 4,
 "nbformat_minor": 5
}
